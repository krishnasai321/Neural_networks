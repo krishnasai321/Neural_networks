{
 "cells": [
  {
   "cell_type": "code",
   "execution_count": 9,
   "metadata": {},
   "outputs": [],
   "source": [
    "#Importing libraries\n",
    "import pandas as pd, numpy as np, matplotlib.pyplot as plt\n",
    "import keras\n",
    "import os"
   ]
  },
  {
   "cell_type": "code",
   "execution_count": 10,
   "metadata": {},
   "outputs": [],
   "source": [
    "#Setting directory\n",
    "os.chdir('C:\\\\Data\\github\\\\neural_networks\\\\Artificial neural networks (ANN)')"
   ]
  },
  {
   "cell_type": "code",
   "execution_count": 11,
   "metadata": {},
   "outputs": [],
   "source": [
    "#Loading data\n",
    "df = pd.read_csv('sample_input.csv')"
   ]
  },
  {
   "cell_type": "code",
   "execution_count": 12,
   "metadata": {
    "scrolled": true
   },
   "outputs": [
    {
     "data": {
      "text/html": [
       "<div>\n",
       "<style scoped>\n",
       "    .dataframe tbody tr th:only-of-type {\n",
       "        vertical-align: middle;\n",
       "    }\n",
       "\n",
       "    .dataframe tbody tr th {\n",
       "        vertical-align: top;\n",
       "    }\n",
       "\n",
       "    .dataframe thead th {\n",
       "        text-align: right;\n",
       "    }\n",
       "</style>\n",
       "<table border=\"1\" class=\"dataframe\">\n",
       "  <thead>\n",
       "    <tr style=\"text-align: right;\">\n",
       "      <th></th>\n",
       "      <th>hcp_id</th>\n",
       "      <th>hcp_specialty</th>\n",
       "      <th>t1_diag_pat</th>\n",
       "      <th>t1_treated_pat</th>\n",
       "      <th>total_unique_pat_treated</th>\n",
       "      <th>unique_cancer_treated</th>\n",
       "      <th>t1_nps</th>\n",
       "      <th>t1_platinum_pat</th>\n",
       "      <th>t1_platinum_pat_1L</th>\n",
       "      <th>comp_a_claims</th>\n",
       "      <th>...</th>\n",
       "      <th>Display- eNewsletters_Sent</th>\n",
       "      <th>In App_Impressions</th>\n",
       "      <th>In-office Video/ Wallboards_Deli</th>\n",
       "      <th>Email_Delivered_EM</th>\n",
       "      <th>Direct Mail_Delivered_DM</th>\n",
       "      <th>Display- Targeted/Programmatic_I</th>\n",
       "      <th>Text Ad_Clicks</th>\n",
       "      <th>admisson_impressions</th>\n",
       "      <th>print_exposure</th>\n",
       "      <th>ABC_t1_nps</th>\n",
       "    </tr>\n",
       "  </thead>\n",
       "  <tbody>\n",
       "    <tr>\n",
       "      <th>0</th>\n",
       "      <td>1</td>\n",
       "      <td>Oncology</td>\n",
       "      <td>601</td>\n",
       "      <td>160</td>\n",
       "      <td>169</td>\n",
       "      <td>5</td>\n",
       "      <td>27</td>\n",
       "      <td>62</td>\n",
       "      <td>34</td>\n",
       "      <td>239</td>\n",
       "      <td>...</td>\n",
       "      <td>0</td>\n",
       "      <td>0</td>\n",
       "      <td>0</td>\n",
       "      <td>0</td>\n",
       "      <td>1</td>\n",
       "      <td>1</td>\n",
       "      <td>0</td>\n",
       "      <td>10</td>\n",
       "      <td>0.000000</td>\n",
       "      <td>0</td>\n",
       "    </tr>\n",
       "    <tr>\n",
       "      <th>1</th>\n",
       "      <td>2</td>\n",
       "      <td>Others</td>\n",
       "      <td>236</td>\n",
       "      <td>137</td>\n",
       "      <td>143</td>\n",
       "      <td>5</td>\n",
       "      <td>2</td>\n",
       "      <td>49</td>\n",
       "      <td>27</td>\n",
       "      <td>99</td>\n",
       "      <td>...</td>\n",
       "      <td>0</td>\n",
       "      <td>0</td>\n",
       "      <td>0</td>\n",
       "      <td>0</td>\n",
       "      <td>0</td>\n",
       "      <td>0</td>\n",
       "      <td>0</td>\n",
       "      <td>0</td>\n",
       "      <td>0.000000</td>\n",
       "      <td>0</td>\n",
       "    </tr>\n",
       "    <tr>\n",
       "      <th>2</th>\n",
       "      <td>3</td>\n",
       "      <td>Oncology</td>\n",
       "      <td>438</td>\n",
       "      <td>132</td>\n",
       "      <td>147</td>\n",
       "      <td>6</td>\n",
       "      <td>35</td>\n",
       "      <td>50</td>\n",
       "      <td>29</td>\n",
       "      <td>162</td>\n",
       "      <td>...</td>\n",
       "      <td>0</td>\n",
       "      <td>0</td>\n",
       "      <td>0</td>\n",
       "      <td>4</td>\n",
       "      <td>1</td>\n",
       "      <td>0</td>\n",
       "      <td>0</td>\n",
       "      <td>0</td>\n",
       "      <td>0.000000</td>\n",
       "      <td>0</td>\n",
       "    </tr>\n",
       "    <tr>\n",
       "      <th>3</th>\n",
       "      <td>4</td>\n",
       "      <td>Oncology</td>\n",
       "      <td>328</td>\n",
       "      <td>130</td>\n",
       "      <td>145</td>\n",
       "      <td>8</td>\n",
       "      <td>12</td>\n",
       "      <td>40</td>\n",
       "      <td>22</td>\n",
       "      <td>78</td>\n",
       "      <td>...</td>\n",
       "      <td>0</td>\n",
       "      <td>0</td>\n",
       "      <td>0</td>\n",
       "      <td>0</td>\n",
       "      <td>1</td>\n",
       "      <td>0</td>\n",
       "      <td>1</td>\n",
       "      <td>32</td>\n",
       "      <td>0.119521</td>\n",
       "      <td>1</td>\n",
       "    </tr>\n",
       "    <tr>\n",
       "      <th>4</th>\n",
       "      <td>5</td>\n",
       "      <td>Oncology</td>\n",
       "      <td>555</td>\n",
       "      <td>112</td>\n",
       "      <td>120</td>\n",
       "      <td>6</td>\n",
       "      <td>22</td>\n",
       "      <td>19</td>\n",
       "      <td>9</td>\n",
       "      <td>410</td>\n",
       "      <td>...</td>\n",
       "      <td>0</td>\n",
       "      <td>0</td>\n",
       "      <td>0</td>\n",
       "      <td>3</td>\n",
       "      <td>1</td>\n",
       "      <td>0</td>\n",
       "      <td>0</td>\n",
       "      <td>7</td>\n",
       "      <td>0.000000</td>\n",
       "      <td>0</td>\n",
       "    </tr>\n",
       "  </tbody>\n",
       "</table>\n",
       "<p>5 rows × 32 columns</p>\n",
       "</div>"
      ],
      "text/plain": [
       "   hcp_id hcp_specialty  t1_diag_pat  t1_treated_pat  \\\n",
       "0       1      Oncology          601             160   \n",
       "1       2        Others          236             137   \n",
       "2       3      Oncology          438             132   \n",
       "3       4      Oncology          328             130   \n",
       "4       5      Oncology          555             112   \n",
       "\n",
       "   total_unique_pat_treated  unique_cancer_treated  t1_nps  t1_platinum_pat  \\\n",
       "0                       169                      5      27               62   \n",
       "1                       143                      5       2               49   \n",
       "2                       147                      6      35               50   \n",
       "3                       145                      8      12               40   \n",
       "4                       120                      6      22               19   \n",
       "\n",
       "   t1_platinum_pat_1L  comp_a_claims  ...  Display- eNewsletters_Sent  \\\n",
       "0                  34            239  ...                           0   \n",
       "1                  27             99  ...                           0   \n",
       "2                  29            162  ...                           0   \n",
       "3                  22             78  ...                           0   \n",
       "4                   9            410  ...                           0   \n",
       "\n",
       "   In App_Impressions  In-office Video/ Wallboards_Deli  Email_Delivered_EM  \\\n",
       "0                   0                                 0                   0   \n",
       "1                   0                                 0                   0   \n",
       "2                   0                                 0                   4   \n",
       "3                   0                                 0                   0   \n",
       "4                   0                                 0                   3   \n",
       "\n",
       "   Direct Mail_Delivered_DM  Display- Targeted/Programmatic_I  Text Ad_Clicks  \\\n",
       "0                         1                                 1               0   \n",
       "1                         0                                 0               0   \n",
       "2                         1                                 0               0   \n",
       "3                         1                                 0               1   \n",
       "4                         1                                 0               0   \n",
       "\n",
       "   admisson_impressions  print_exposure  ABC_t1_nps  \n",
       "0                    10        0.000000           0  \n",
       "1                     0        0.000000           0  \n",
       "2                     0        0.000000           0  \n",
       "3                    32        0.119521           1  \n",
       "4                     7        0.000000           0  \n",
       "\n",
       "[5 rows x 32 columns]"
      ]
     },
     "execution_count": 12,
     "metadata": {},
     "output_type": "execute_result"
    }
   ],
   "source": [
    "df.head()"
   ]
  },
  {
   "cell_type": "code",
   "execution_count": 13,
   "metadata": {},
   "outputs": [],
   "source": [
    "#Dropping HCP ID\n",
    "df = df.drop(['hcp_id'],axis = 1)"
   ]
  },
  {
   "cell_type": "code",
   "execution_count": 14,
   "metadata": {},
   "outputs": [],
   "source": [
    "#Encoding specialty\n",
    "df = pd.get_dummies(df,drop_first=True)"
   ]
  },
  {
   "cell_type": "code",
   "execution_count": 15,
   "metadata": {},
   "outputs": [],
   "source": [
    "#Separating features and dependent variable\n",
    "df = df.values\n",
    "X = df[:,0:29]\n",
    "Y = df[:,29]"
   ]
  },
  {
   "cell_type": "code",
   "execution_count": 16,
   "metadata": {},
   "outputs": [
    {
     "data": {
      "text/plain": [
       "array([[6.01000000e+02, 1.60000000e+02, 1.69000000e+02, ...,\n",
       "        0.00000000e+00, 1.00000000e+01, 0.00000000e+00],\n",
       "       [2.36000000e+02, 1.37000000e+02, 1.43000000e+02, ...,\n",
       "        0.00000000e+00, 0.00000000e+00, 0.00000000e+00],\n",
       "       [4.38000000e+02, 1.32000000e+02, 1.47000000e+02, ...,\n",
       "        0.00000000e+00, 0.00000000e+00, 0.00000000e+00],\n",
       "       ...,\n",
       "       [0.00000000e+00, 1.00000000e+00, 2.10000000e+01, ...,\n",
       "        0.00000000e+00, 0.00000000e+00, 0.00000000e+00],\n",
       "       [4.00000000e+00, 1.00000000e+00, 2.77000000e+02, ...,\n",
       "        0.00000000e+00, 0.00000000e+00, 1.19489724e-01],\n",
       "       [2.00000000e+00, 1.00000000e+00, 1.00000000e+00, ...,\n",
       "        0.00000000e+00, 0.00000000e+00, 0.00000000e+00]])"
      ]
     },
     "execution_count": 16,
     "metadata": {},
     "output_type": "execute_result"
    }
   ],
   "source": [
    "X"
   ]
  },
  {
   "cell_type": "code",
   "execution_count": 17,
   "metadata": {},
   "outputs": [],
   "source": [
    "#Encoder for Y\n",
    "from sklearn.preprocessing import LabelEncoder\n",
    "encoder = LabelEncoder()\n",
    "encoder.fit(Y)\n",
    "encoded_Y = encoder.transform(Y)"
   ]
  },
  {
   "cell_type": "code",
   "execution_count": 25,
   "metadata": {},
   "outputs": [],
   "source": [
    "#Keras - Neural Network portion\n",
    "#Adding dense layers, various activation functions, regularizers, drop outs, multiple metrics, validation split etc.\n",
    "from keras.models import Sequential\n",
    "from keras.layers import Dense\n",
    "from keras.layers import Dropout\n",
    "from keras import regularizers\n",
    "\n",
    "model = Sequential()\n",
    "model.add(Dense(16, input_dim=29, activation='relu'))\n",
    "model.add(Dense(8, activation='relu',kernel_regularizer = (regularizers.l1_l2(l1=0.01,l2=0.01))))\n",
    "model.add(Dropout(0.25))\n",
    "model.add(Dense(1, activation='sigmoid'))\n",
    "\n",
    "model.compile(loss='binary_crossentropy', optimizer='adam', metrics=['Precision','Recall'])\n",
    "#model.optimizer.lr = 0.01\n",
    "\n",
    "nn = model.fit(X, Y, epochs=150, batch_size=50,verbose=0)\n",
    "#nn = model.fit(X, Y, epochs=150, batch_size=50, validation_split= 0.2)"
   ]
  },
  {
   "cell_type": "code",
   "execution_count": 26,
   "metadata": {},
   "outputs": [
    {
     "data": {
      "image/png": "[encoded data removed]",
      "text/plain": [
       "<Figure size 432x288 with 1 Axes>"
      ]
     },
     "metadata": {
      "needs_background": "light"
     },
     "output_type": "display_data"
    }
   ],
   "source": [
    "#Checking how the precision improved over epochs\n",
    "plt.plot(nn.history['precision'])\n",
    "plt.show()"
   ]
  },
  {
   "cell_type": "code",
   "execution_count": null,
   "metadata": {},
   "outputs": [],
   "source": []
  }
 ],
 "metadata": {
  "kernelspec": {
   "display_name": "Python 3",
   "language": "python",
   "name": "python3"
  },
  "language_info": {
   "codemirror_mode": {
    "name": "ipython",
    "version": 3
   },
   "file_extension": ".py",
   "mimetype": "text/x-python",
   "name": "python",
   "nbconvert_exporter": "python",
   "pygments_lexer": "ipython3",
   "version": "3.8.5"
  }
 },
 "nbformat": 4,
 "nbformat_minor": 4
}
